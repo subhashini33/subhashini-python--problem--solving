{
 "cells": [
  {
   "cell_type": "markdown",
   "metadata": {},
   "source": [
    "# Files"
   ]
  },
  {
   "cell_type": "markdown",
   "metadata": {},
   "source": [
    "## 3steps to work with files\n",
    " 1. open afile by specifying operation\n",
    " 2. do your required operation\n",
    " 3. close the file which is opened"
   ]
  },
  {
   "cell_type": "markdown",
   "metadata": {},
   "source": [
    "## read the book.txt"
   ]
  },
  {
   "cell_type": "code",
   "execution_count": 2,
   "metadata": {},
   "outputs": [
    {
     "name": "stdout",
     "output_type": "stream",
     "text": [
      "line 1\n",
      "line 2\n",
      "line 4\n",
      "line 3\n"
     ]
    }
   ],
   "source": [
    "fh=open('book.txt','r')\n",
    "\n",
    "\n",
    "data=fh.read()\n",
    "print(data)\n",
    "\n",
    "\n",
    "fh.close()\n"
   ]
  },
  {
   "cell_type": "markdown",
   "metadata": {},
   "source": [
    "## write data into mystory.txt"
   ]
  },
  {
   "cell_type": "code",
   "execution_count": 4,
   "metadata": {},
   "outputs": [],
   "source": [
    "fh=open(\"mystory.txt\",'w')\n",
    "\n",
    "content=\"this is my story\"\n",
    "fh.write(content)\n",
    "\n",
    "fh.close()"
   ]
  },
  {
   "cell_type": "code",
   "execution_count": 11,
   "metadata": {},
   "outputs": [],
   "source": [
    "fh=open(\"mystory.txt\",'w')\n",
    "\n",
    "fh2=open('book.txt','r')\n",
    "data=fh2.read()\n",
    "\n",
    "fh.write(data)\n",
    "fh2.close()\n",
    "\n",
    "\n",
    "fh.close()"
   ]
  },
  {
   "cell_type": "code",
   "execution_count": 12,
   "metadata": {},
   "outputs": [
    {
     "ename": "UnsupportedOperation",
     "evalue": "not readable",
     "output_type": "error",
     "traceback": [
      "\u001b[1;31m---------------------------------------------------------------------------\u001b[0m",
      "\u001b[1;31mUnsupportedOperation\u001b[0m                      Traceback (most recent call last)",
      "\u001b[1;32m<ipython-input-12-d925621165c0>\u001b[0m in \u001b[0;36m<module>\u001b[1;34m\u001b[0m\n\u001b[0;32m      1\u001b[0m \u001b[0mfh\u001b[0m\u001b[1;33m=\u001b[0m\u001b[0mopen\u001b[0m\u001b[1;33m(\u001b[0m\u001b[1;34m\"mystory.txt\"\u001b[0m\u001b[1;33m,\u001b[0m\u001b[1;34m'w'\u001b[0m\u001b[1;33m)\u001b[0m\u001b[1;33m\u001b[0m\u001b[1;33m\u001b[0m\u001b[0m\n\u001b[1;32m----> 2\u001b[1;33m \u001b[0mdata\u001b[0m\u001b[1;33m=\u001b[0m\u001b[0mfh\u001b[0m\u001b[1;33m.\u001b[0m\u001b[0mread\u001b[0m\u001b[1;33m(\u001b[0m\u001b[1;33m)\u001b[0m\u001b[1;33m\u001b[0m\u001b[1;33m\u001b[0m\u001b[0m\n\u001b[0m\u001b[0;32m      3\u001b[0m \u001b[0mfh\u001b[0m\u001b[1;33m.\u001b[0m\u001b[0mclose\u001b[0m\u001b[1;33m(\u001b[0m\u001b[1;33m)\u001b[0m\u001b[1;33m\u001b[0m\u001b[1;33m\u001b[0m\u001b[0m\n",
      "\u001b[1;31mUnsupportedOperation\u001b[0m: not readable"
     ]
    }
   ],
   "source": [
    "fh=open(\"mystory.txt\",'w')\n",
    "data=fh.read()\n",
    "fh.close()"
   ]
  },
  {
   "cell_type": "code",
   "execution_count": 13,
   "metadata": {},
   "outputs": [],
   "source": [
    "fh=open(\"mystory.txt\",'w')\n",
    "\n",
    "content=\"this is my story\"\n",
    "fh.write(content)\n",
    "fh.write(\"this is another story\")\n",
    "\n",
    "fh.close()"
   ]
  },
  {
   "cell_type": "code",
   "execution_count": 14,
   "metadata": {},
   "outputs": [
    {
     "name": "stdout",
     "output_type": "stream",
     "text": [
      "\n"
     ]
    }
   ],
   "source": [
    "fh=open(\"mystory.txt\",'r')\n",
    "\n",
    "data=fh.read()\n",
    "data=fh.read()\n",
    "print(data)\n",
    "\n",
    "fh.close()"
   ]
  },
  {
   "cell_type": "code",
   "execution_count": 15,
   "metadata": {},
   "outputs": [
    {
     "name": "stdout",
     "output_type": "stream",
     "text": [
      "this is my storythis is another story\n",
      "\n"
     ]
    }
   ],
   "source": [
    "fh=open(\"mystory.txt\",'r')\n",
    "\n",
    "data1=fh.read()\n",
    "print(data1)\n",
    "\n",
    "data2=fh.read()\n",
    "print(data2)\n",
    "\n",
    "fh.close()"
   ]
  },
  {
   "cell_type": "markdown",
   "metadata": {},
   "source": [
    "# tell()\n",
    " . to know the position of cursor\n"
   ]
  },
  {
   "cell_type": "code",
   "execution_count": 17,
   "metadata": {},
   "outputs": [
    {
     "name": "stdout",
     "output_type": "stream",
     "text": [
      "cursor 0\n",
      "cursor 37\n"
     ]
    }
   ],
   "source": [
    "fh=open(\"mystory.txt\",'r')\n",
    "print('cursor',fh.tell())\n",
    "data1=fh.read()\n",
    "print('cursor',fh.tell())\n",
    "fh.close()\n"
   ]
  },
  {
   "cell_type": "markdown",
   "metadata": {},
   "source": [
    "# seek()\n",
    " . to change the position of cursor"
   ]
  },
  {
   "cell_type": "code",
   "execution_count": 19,
   "metadata": {},
   "outputs": [
    {
     "name": "stdout",
     "output_type": "stream",
     "text": [
      "cursor 37\n",
      "cursor 0\n"
     ]
    }
   ],
   "source": [
    "fh=open(\"mystory.txt\",'r')\n",
    "fh.read()\n",
    "print('cursor',fh.tell())\n",
    "fh.seek(0)\n",
    "print('cursor',fh.tell())\n",
    "fh.close()"
   ]
  },
  {
   "cell_type": "code",
   "execution_count": 20,
   "metadata": {},
   "outputs": [
    {
     "name": "stdout",
     "output_type": "stream",
     "text": [
      "cursor 37\n",
      "cursor 0\n",
      "this is my storythis is another story\n"
     ]
    }
   ],
   "source": [
    "fh=open(\"mystory.txt\",'r')\n",
    "fh.read()\n",
    "print('cursor',fh.tell())\n",
    "fh.seek(0)\n",
    "print('cursor',fh.tell())\n",
    "data=fh.read()\n",
    "print(data)\n",
    "fh.close()"
   ]
  },
  {
   "cell_type": "code",
   "execution_count": 21,
   "metadata": {},
   "outputs": [
    {
     "name": "stdout",
     "output_type": "stream",
     "text": [
      "cursor 37\n",
      "cursor 5\n",
      "is my storythis is another story\n"
     ]
    }
   ],
   "source": [
    "fh=open(\"mystory.txt\",'r')\n",
    "fh.read()\n",
    "print('cursor',fh.tell())\n",
    "fh.seek(5)\n",
    "print('cursor',fh.tell())\n",
    "data=fh.read()\n",
    "print(data)\n",
    "fh.close()"
   ]
  },
  {
   "cell_type": "code",
   "execution_count": null,
   "metadata": {},
   "outputs": [],
   "source": [
    "append\n"
   ]
  },
  {
   "cell_type": "code",
   "execution_count": 22,
   "metadata": {},
   "outputs": [],
   "source": [
    "fh=open('mystory.txt','a')\n",
    "fh.write('story 3')\n",
    "fh.close()"
   ]
  },
  {
   "cell_type": "code",
   "execution_count": 42,
   "metadata": {},
   "outputs": [
    {
     "name": "stdout",
     "output_type": "stream",
     "text": [
      "1 \n",
      "\n",
      "2 \n",
      "\n",
      "4 \n",
      "\n",
      "3 \n",
      "\n"
     ]
    }
   ],
   "source": [
    "import re\n",
    "fh2=open(\"mystory.txt\",'w')\n",
    "fh=open(\"book.txt\",'r')\n",
    "\n",
    "\n",
    "\n",
    "fh.seek(5)\n",
    "\n",
    "data=fh.read()\n",
    "\n",
    "n=re.findall('\\d',data)\n",
    "for x in n:\n",
    "    print(x,'\\n')\n",
    "    fh2.write(x+'\\n')\n",
    "    fh2.write('\\n')\n",
    "fh.close()\n",
    "\n",
    "\n",
    "\n",
    "fh2.close()\n"
   ]
  },
  {
   "cell_type": "code",
   "execution_count": 51,
   "metadata": {},
   "outputs": [],
   "source": [
    "import re\n",
    "fh1=open('book.txt','r')\n",
    "fh2=open('mystory.txt','w')\n",
    "data=fh1.read().strip()\n",
    "numbers=re.findall('\\d+',data)\n",
    "for each in numbers:\n",
    "    fh2.write(each+' \\n')\n",
    "fh2.close()\n",
    "fh1.close()"
   ]
  },
  {
   "cell_type": "code",
   "execution_count": 50,
   "metadata": {},
   "outputs": [
    {
     "name": "stdout",
     "output_type": "stream",
     "text": [
      "line 1\n",
      "\n",
      "line 2\n",
      "\n",
      "line 4\n",
      "\n",
      "line 3\n"
     ]
    }
   ],
   "source": [
    "fh=open('book.txt')\n",
    "for line in fh:\n",
    "    print(line)\n",
    "fh.close()"
   ]
  },
  {
   "cell_type": "code",
   "execution_count": 53,
   "metadata": {},
   "outputs": [
    {
     "name": "stdout",
     "output_type": "stream",
     "text": [
      "number of lines in a file 4\n"
     ]
    }
   ],
   "source": [
    "fh=open('book.txt')\n",
    "count=0\n",
    "for line in fh:\n",
    "    count+=1\n",
    "print('number of lines in a file',count)\n",
    "fh.close()"
   ]
  },
  {
   "cell_type": "code",
   "execution_count": 55,
   "metadata": {},
   "outputs": [
    {
     "name": "stdout",
     "output_type": "stream",
     "text": [
      "line 100\n",
      "\n",
      "number of lines in a file 4\n"
     ]
    }
   ],
   "source": [
    "fh=open('book.txt')\n",
    "count=0\n",
    "for line in fh:\n",
    "    count+=1\n",
    "    if count==3:\n",
    "        print(line)\n",
    "print('number of lines in a file',count)\n",
    "fh.close()"
   ]
  },
  {
   "cell_type": "markdown",
   "metadata": {},
   "source": [
    "## readline()\n",
    "    . read and display one line from cursor position"
   ]
  },
  {
   "cell_type": "markdown",
   "metadata": {},
   "source": [
    "## readlines()\n",
    "    .gives remaining lines from cursor position"
   ]
  },
  {
   "cell_type": "code",
   "execution_count": 57,
   "metadata": {},
   "outputs": [
    {
     "name": "stdout",
     "output_type": "stream",
     "text": [
      "['ram 9999999999\\n', 'lakshmi 8888888888']\n"
     ]
    }
   ],
   "source": [
    "fh=open('book.txt','r')\n",
    "line1=fh.readline()\n",
    "line2=fh.readlines()\n",
    "print(line2)\n",
    "\n",
    "fh.close()"
   ]
  },
  {
   "cell_type": "code",
   "execution_count": 58,
   "metadata": {},
   "outputs": [
    {
     "name": "stdout",
     "output_type": "stream",
     "text": [
      "4\n",
      "50\n",
      "7777562767\n",
      "ram 9999999999\n",
      "lakshmi 8888888888\n"
     ]
    }
   ],
   "source": [
    "fh=open('book.txt','r+')\n",
    "fh.write('hiii')\n",
    "print(fh.tell())\n",
    "data=fh.read()\n",
    "print(fh.tell())\n",
    "print(data)\n",
    "\n",
    "\n",
    "\n",
    "fh.close()"
   ]
  },
  {
   "cell_type": "code",
   "execution_count": 59,
   "metadata": {},
   "outputs": [
    {
     "name": "stdout",
     "output_type": "stream",
     "text": [
      "\n"
     ]
    }
   ],
   "source": [
    "fh=open('book.txt','w+')\n",
    "fh.write('line 6')\n",
    "print(fh.read())\n",
    "fh.close()"
   ]
  },
  {
   "cell_type": "markdown",
   "metadata": {},
   "source": [
    "# simpleTask \n",
    "  . print records in a file mobile num not start with 9 0r 8"
   ]
  },
  {
   "cell_type": "code",
   "execution_count": 89,
   "metadata": {},
   "outputs": [],
   "source": [
    "import re\n",
    "fh=open('book.txt','r')\n",
    "fh2=open('report.txt','w')\n",
    "count=0\n",
    "for line in fh:\n",
    "    count+=1\n",
    "    if count==1:\n",
    "        fh2.write(line)\n",
    "    else:\n",
    "        if re.search('[[0-5]\\d{9}',line):\n",
    "            fh2.write(line)\n",
    "\n",
    "fh.close()\n",
    "fh2.close()\n"
   ]
  },
  {
   "cell_type": "code",
   "execution_count": 128,
   "metadata": {},
   "outputs": [],
   "source": [
    "import re\n",
    "fh=open('student.txt','r')\n",
    "fh2=open('unreport.txt','w')\n",
    "count=0\n",
    "for line in fh:\n",
    "    count+=1\n",
    "    if count==1:\n",
    "        fh2.write(line)\n",
    "    else:\n",
    "        re.search('^[0-3]\\d{2}0$',line)\n",
    "        fh2.write(line)\n",
    "fh.close()\n",
    "fh2.close()"
   ]
  },
  {
   "cell_type": "code",
   "execution_count": null,
   "metadata": {},
   "outputs": [],
   "source": []
  },
  {
   "cell_type": "code",
   "execution_count": null,
   "metadata": {},
   "outputs": [],
   "source": []
  },
  {
   "cell_type": "code",
   "execution_count": null,
   "metadata": {},
   "outputs": [],
   "source": []
  },
  {
   "cell_type": "code",
   "execution_count": null,
   "metadata": {},
   "outputs": [],
   "source": []
  },
  {
   "cell_type": "code",
   "execution_count": null,
   "metadata": {},
   "outputs": [],
   "source": []
  }
 ],
 "metadata": {
  "kernelspec": {
   "display_name": "Python 3",
   "language": "python",
   "name": "python3"
  },
  "language_info": {
   "codemirror_mode": {
    "name": "ipython",
    "version": 3
   },
   "file_extension": ".py",
   "mimetype": "text/x-python",
   "name": "python",
   "nbconvert_exporter": "python",
   "pygments_lexer": "ipython3",
   "version": "3.7.3"
  }
 },
 "nbformat": 4,
 "nbformat_minor": 2
}
