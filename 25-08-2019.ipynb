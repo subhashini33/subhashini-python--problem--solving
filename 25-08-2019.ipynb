{
 "cells": [
  {
   "cell_type": "markdown",
   "metadata": {},
   "source": [
    "# sum of numbers in a list using functions"
   ]
  },
  {
   "cell_type": "code",
   "execution_count": 5,
   "metadata": {},
   "outputs": [
    {
     "name": "stdout",
     "output_type": "stream",
     "text": [
      "1\n",
      "5\n",
      "[1, 2, 3, 4, 5]\n"
     ]
    },
    {
     "data": {
      "text/plain": [
       "15"
      ]
     },
     "execution_count": 5,
     "metadata": {},
     "output_type": "execute_result"
    }
   ],
   "source": [
    "mylist=[]\n",
    "n1=int(input())\n",
    "n2=int(input())\n",
    "def add(n1,n2):\n",
    "    for i in range(n1,n2+1):\n",
    "        mylist.append(i)\n",
    "    print(mylist)\n",
    "    return sum(mylist)\n",
    "add(n1,n2)\n"
   ]
  },
  {
   "cell_type": "markdown",
   "metadata": {},
   "source": [
    "# creating list using functions"
   ]
  },
  {
   "cell_type": "code",
   "execution_count": 45,
   "metadata": {},
   "outputs": [
    {
     "name": "stdout",
     "output_type": "stream",
     "text": [
      "1\n",
      "2\n",
      "3\n",
      "4\n",
      "5\n"
     ]
    },
    {
     "data": {
      "text/plain": [
       "[1, 2, 3, 4, 5]"
      ]
     },
     "execution_count": 45,
     "metadata": {},
     "output_type": "execute_result"
    }
   ],
   "source": [
    "\n",
    "def li():\n",
    "    l=[]\n",
    "    for i in range(0,5):\n",
    "        i=int(input())\n",
    "        l.append(i)\n",
    "    return l\n",
    "    \n",
    "li()\n",
    "\n",
    "\n",
    "    "
   ]
  },
  {
   "cell_type": "markdown",
   "metadata": {},
   "source": [
    "## leap year using functions"
   ]
  },
  {
   "cell_type": "code",
   "execution_count": 21,
   "metadata": {},
   "outputs": [
    {
     "name": "stdout",
     "output_type": "stream",
     "text": [
      "1990\n",
      "not leap year\n"
     ]
    },
    {
     "data": {
      "text/plain": [
       "False"
      ]
     },
     "execution_count": 21,
     "metadata": {},
     "output_type": "execute_result"
    }
   ],
   "source": [
    "n=int(input())\n",
    "def leap(n):\n",
    "    if n%4==0 and n%100!=0 or n%400==0:\n",
    "        print(\"leap year\")\n",
    "        #return True\n",
    "    else:\n",
    "        print(\"not leap year\")\n",
    "        #return False\n",
    "leap(n)\n",
    "    "
   ]
  },
  {
   "cell_type": "markdown",
   "metadata": {},
   "source": [
    "# leap years in agiven range"
   ]
  },
  {
   "cell_type": "code",
   "execution_count": 1,
   "metadata": {},
   "outputs": [
    {
     "name": "stdout",
     "output_type": "stream",
     "text": [
      "1\n",
      "20\n",
      "1 not leap year\n",
      "2 not leap year\n",
      "3 not leap year\n",
      "4 leap year\n",
      "5 not leap year\n",
      "6 not leap year\n",
      "7 not leap year\n",
      "8 leap year\n",
      "9 not leap year\n",
      "10 not leap year\n",
      "11 not leap year\n",
      "12 leap year\n",
      "13 not leap year\n",
      "14 not leap year\n",
      "15 not leap year\n",
      "16 leap year\n",
      "17 not leap year\n",
      "18 not leap year\n",
      "19 not leap year\n",
      "20 leap year\n"
     ]
    }
   ],
   "source": [
    "def leap(y):\n",
    "    if y%4==0 and y%100!=0 or y%400==0:\n",
    "        print(y,\"leap year\")\n",
    "    else:\n",
    "        print(y,\"not leap year\")\n",
    "            \n",
    "            \n",
    "            \n",
    "n1=int(input())\n",
    "n2=int(input())\n",
    "for y in range(n1,n2+1):\n",
    "    leap(y) #function calling\n",
    "\n",
    "\n",
    "    \n",
    "        "
   ]
  },
  {
   "cell_type": "markdown",
   "metadata": {},
   "source": [
    "# Reverse  a string"
   ]
  },
  {
   "cell_type": "code",
   "execution_count": 11,
   "metadata": {},
   "outputs": [
    {
     "name": "stdout",
     "output_type": "stream",
     "text": [
      "khd\n",
      "dhk\n"
     ]
    }
   ],
   "source": [
    "\n",
    "def reverse():\n",
    "    s1=s[::-1]\n",
    "    print(s1)\n",
    "s=input()\n",
    "reverse()"
   ]
  },
  {
   "cell_type": "markdown",
   "metadata": {},
   "source": [
    "# find number is given range or not\n"
   ]
  },
  {
   "cell_type": "code",
   "execution_count": 39,
   "metadata": {},
   "outputs": [
    {
     "name": "stdout",
     "output_type": "stream",
     "text": [
      "enter range4\n",
      "enter a number3\n",
      "3 is in given range\n"
     ]
    }
   ],
   "source": [
    "   \n",
    "def checknum(n,n1):\n",
    "    if n1 in range(1,n+1):\n",
    "        print(n1,\"is in given range\")\n",
    "    else:\n",
    "        print(n1,\"not in a range\")\n",
    "    \n",
    "n=int(input(\"enter range\"))\n",
    "n1=int(input(\"enter a number\"))\n",
    "checknum(n,n1)"
   ]
  },
  {
   "cell_type": "code",
   "execution_count": 12,
   "metadata": {},
   "outputs": [
    {
     "name": "stdout",
     "output_type": "stream",
     "text": [
      "enter starting range45\n",
      "enter ending range50\n",
      "enter a number43\n",
      "43 not in a range\n"
     ]
    }
   ],
   "source": [
    "def checknum():\n",
    "    if n>=lb and n<=ub:\n",
    "            print(n,\"is in given range\")\n",
    "    else:\n",
    "            print(n,\"not in a range\")\n",
    "            \n",
    "lb=int(input(\"enter starting range\"))    \n",
    "ub=int(input(\"enter ending range\"))\n",
    "n=int(input(\"enter a number\"))\n",
    "checknum()"
   ]
  },
  {
   "cell_type": "markdown",
   "metadata": {},
   "source": [
    "# even numbers from given list\n"
   ]
  },
  {
   "cell_type": "code",
   "execution_count": 23,
   "metadata": {},
   "outputs": [
    {
     "name": "stdout",
     "output_type": "stream",
     "text": [
      "5\n"
     ]
    },
    {
     "data": {
      "text/plain": [
       "[1, 2, 3, 4, 5]"
      ]
     },
     "execution_count": 23,
     "metadata": {},
     "output_type": "execute_result"
    }
   ],
   "source": [
    "list1=[]\n",
    "n=int(input())\n",
    "for i in range(1,n+1):\n",
    "    list1.append(i)\n",
    "list1"
   ]
  },
  {
   "cell_type": "code",
   "execution_count": 27,
   "metadata": {},
   "outputs": [
    {
     "name": "stdout",
     "output_type": "stream",
     "text": [
      "2\n",
      "4\n"
     ]
    }
   ],
   "source": [
    "def even(i):\n",
    "    if i%2==0:\n",
    "        print(i)\n",
    "for i in list1:\n",
    "    if even(i)==1:\n",
    "        print(i)\n",
    "even(i)\n",
    "        \n"
   ]
  },
  {
   "cell_type": "code",
   "execution_count": 30,
   "metadata": {},
   "outputs": [
    {
     "name": "stdout",
     "output_type": "stream",
     "text": [
      "20\n",
      "2\n",
      "4\n",
      "6\n",
      "8\n",
      "10\n",
      "12\n",
      "14\n",
      "16\n",
      "18\n",
      "20\n"
     ]
    },
    {
     "data": {
      "text/plain": [
       "1"
      ]
     },
     "execution_count": 30,
     "metadata": {},
     "output_type": "execute_result"
    }
   ],
   "source": [
    "list1=[]\n",
    "n=int(input())\n",
    "for i in range(1,n+1):\n",
    "    list1.append(i)\n",
    "    def even(i):\n",
    "        if i%2==0:\n",
    "            return 1\n",
    "for i in list1:\n",
    "    if even(i)==1:\n",
    "        print(i)\n",
    "even(i)"
   ]
  },
  {
   "cell_type": "markdown",
   "metadata": {},
   "source": [
    "# factorial using functions\n"
   ]
  },
  {
   "cell_type": "code",
   "execution_count": 36,
   "metadata": {},
   "outputs": [
    {
     "name": "stdout",
     "output_type": "stream",
     "text": [
      "5\n"
     ]
    },
    {
     "data": {
      "text/plain": [
       "120"
      ]
     },
     "execution_count": 36,
     "metadata": {},
     "output_type": "execute_result"
    }
   ],
   "source": [
    "n=int(input())\n",
    "def factorial(n):\n",
    "    fact=1\n",
    "    for i in range(1,n+1):\n",
    "        fact=fact*i\n",
    "    return fact\n",
    "\n",
    "factorial(n)"
   ]
  },
  {
   "cell_type": "code",
   "execution_count": 38,
   "metadata": {},
   "outputs": [
    {
     "data": {
      "text/plain": [
       "720"
      ]
     },
     "execution_count": 38,
     "metadata": {},
     "output_type": "execute_result"
    }
   ],
   "source": [
    "factorial(6)\n"
   ]
  },
  {
   "cell_type": "markdown",
   "metadata": {},
   "source": [
    "# count no of upper and lowercase letters in a string"
   ]
  },
  {
   "cell_type": "code",
   "execution_count": 13,
   "metadata": {},
   "outputs": [
    {
     "name": "stdout",
     "output_type": "stream",
     "text": [
      "fggdJHN\n",
      "4\n",
      "3\n"
     ]
    }
   ],
   "source": [
    "s=input()\n",
    "\n",
    "\n",
    "def scount(s):\n",
    "    ucount=0\n",
    "    lcount=0\n",
    "    for i in s:\n",
    "        if (i.isupper()):\n",
    "            ucount=ucount+1\n",
    "        if (i.islower()):\n",
    "            lcount=lcount+1\n",
    "    print(lcount)\n",
    "    print(ucount)\n",
    "\n",
    "scount(s)     \n",
    "        "
   ]
  },
  {
   "cell_type": "code",
   "execution_count": null,
   "metadata": {},
   "outputs": [],
   "source": []
  }
 ],
 "metadata": {
  "kernelspec": {
   "display_name": "Python 3",
   "language": "python",
   "name": "python3"
  },
  "language_info": {
   "codemirror_mode": {
    "name": "ipython",
    "version": 3
   },
   "file_extension": ".py",
   "mimetype": "text/x-python",
   "name": "python",
   "nbconvert_exporter": "python",
   "pygments_lexer": "ipython3",
   "version": "3.7.3"
  }
 },
 "nbformat": 4,
 "nbformat_minor": 2
}
