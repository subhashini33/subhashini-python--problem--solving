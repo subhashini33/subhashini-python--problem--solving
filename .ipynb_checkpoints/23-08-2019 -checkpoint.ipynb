{
 "cells": [
  {
   "cell_type": "markdown",
   "metadata": {},
   "source": [
    "# Prime numbers in a given range"
   ]
  },
  {
   "cell_type": "code",
   "execution_count": 56,
   "metadata": {},
   "outputs": [
    {
     "name": "stdout",
     "output_type": "stream",
     "text": [
      "enter range:100\n",
      "2 is prime\n",
      "3 is prime\n",
      "5 is prime\n",
      "7 is prime\n",
      "11 is prime\n",
      "13 is prime\n",
      "17 is prime\n",
      "19 is prime\n",
      "23 is prime\n",
      "29 is prime\n",
      "31 is prime\n",
      "37 is prime\n",
      "41 is prime\n",
      "43 is prime\n",
      "47 is prime\n",
      "53 is prime\n",
      "59 is prime\n",
      "61 is prime\n",
      "67 is prime\n",
      "71 is prime\n",
      "73 is prime\n",
      "79 is prime\n",
      "83 is prime\n",
      "89 is prime\n",
      "97 is prime\n"
     ]
    }
   ],
   "source": [
    "n1=2\n",
    "n2=int(input(\"enter range:\"))\n",
    "for n1 in range(2,n2):\n",
    "    flag=0\n",
    "    i=2\n",
    "    for i in range(2,n1//2+1):\n",
    "        if n1%i==0:\n",
    "            flag=1\n",
    "    if flag==0:\n",
    "        print(n1,\"is prime\")\n",
    "    #else:\n",
    "       # print(n1,\"is not prime\")\n",
    "            \n",
    "        \n",
    "  "
   ]
  },
  {
   "cell_type": "markdown",
   "metadata": {},
   "source": [
    "# Prime number"
   ]
  },
  {
   "cell_type": "code",
   "execution_count": 66,
   "metadata": {},
   "outputs": [
    {
     "name": "stdout",
     "output_type": "stream",
     "text": [
      "enter a number97\n",
      "97 is prime\n"
     ]
    }
   ],
   "source": [
    "n=int(input(\"enter a number\"))\n",
    "flag=0\n",
    "i=2\n",
    "for i in range(2,n//2+1):\n",
    "    if n%i==0:\n",
    "        flag=1\n",
    "if flag==0:\n",
    "    print(n,\"is prime\")\n",
    "else:\n",
    "    print(n,\"is not prime\")"
   ]
  },
  {
   "cell_type": "markdown",
   "metadata": {},
   "source": [
    "# prime numbers from factors of a given number"
   ]
  },
  {
   "cell_type": "code",
   "execution_count": 75,
   "metadata": {},
   "outputs": [
    {
     "name": "stdout",
     "output_type": "stream",
     "text": [
      "enter a value:20\n",
      "2 is prime\n",
      "5 is prime\n"
     ]
    }
   ],
   "source": [
    "n=int(input(\"enter a value:\"))\n",
    "i=2\n",
    "for i in range(2,n):\n",
    "    if n%i==0:\n",
    "        #print(i)\n",
    "        j=2\n",
    "        flag=0\n",
    "        for j in range(2,i//2+1):\n",
    "            if i%j==0:\n",
    "                flag=1\n",
    "        if flag==0:\n",
    "            print(i,\"is prime\")\n",
    "        \n",
    "        \n",
    "        \n",
    "        \n"
   ]
  },
  {
   "cell_type": "markdown",
   "metadata": {},
   "source": [
    "# find product of  numbers from array"
   ]
  },
  {
   "cell_type": "code",
   "execution_count": 81,
   "metadata": {},
   "outputs": [
    {
     "name": "stdout",
     "output_type": "stream",
     "text": [
      "enter array size5\n",
      "enter value into array1\n",
      "enter value into array2\n",
      "enter value into array3\n",
      "enter value into array4\n",
      "enter value into array5\n",
      "120\n"
     ]
    }
   ],
   "source": [
    "n=int(input(\"enter array size\"))\n",
    "i=1\n",
    "p=1\n",
    "for i in range(0,n):\n",
    "    a=int(input(\"enter value into array\"))\n",
    "    p=p*a\n",
    "print(p)\n",
    "    \n",
    "    "
   ]
  },
  {
   "cell_type": "markdown",
   "metadata": {},
   "source": [
    "# string palindrome"
   ]
  },
  {
   "cell_type": "code",
   "execution_count": 117,
   "metadata": {},
   "outputs": [
    {
     "name": "stdout",
     "output_type": "stream",
     "text": [
      "enter a string:madam\n",
      "YES\n"
     ]
    }
   ],
   "source": [
    "s=input('enter a string:')\n",
    "n=len(s)\n",
    "res=\"\"\n",
    "while n-1>=0:\n",
    "    res=res+s[n-1]\n",
    "    n=n-1\n",
    "if res==s:\n",
    "    print('YES')\n",
    "else:\n",
    "    print('NO')\n",
    "        "
   ]
  },
  {
   "cell_type": "code",
   "execution_count": null,
   "metadata": {},
   "outputs": [],
   "source": []
  },
  {
   "cell_type": "code",
   "execution_count": null,
   "metadata": {},
   "outputs": [],
   "source": []
  }
 ],
 "metadata": {
  "kernelspec": {
   "display_name": "Python 3",
   "language": "python",
   "name": "python3"
  },
  "language_info": {
   "codemirror_mode": {
    "name": "ipython",
    "version": 3
   },
   "file_extension": ".py",
   "mimetype": "text/x-python",
   "name": "python",
   "nbconvert_exporter": "python",
   "pygments_lexer": "ipython3",
   "version": "3.7.3"
  }
 },
 "nbformat": 4,
 "nbformat_minor": 2
}
