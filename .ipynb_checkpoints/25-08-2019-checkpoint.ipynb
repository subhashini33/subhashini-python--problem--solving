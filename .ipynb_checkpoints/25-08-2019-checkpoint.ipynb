{
 "cells": [
  {
   "cell_type": "markdown",
   "metadata": {},
   "source": [
    "# sum of numbers in a list using functions"
   ]
  },
  {
   "cell_type": "code",
   "execution_count": 10,
   "metadata": {},
   "outputs": [
    {
     "name": "stdout",
     "output_type": "stream",
     "text": [
      "5\n",
      "10\n",
      "[5, 6, 7, 8, 9, 10]\n"
     ]
    },
    {
     "data": {
      "text/plain": [
       "45"
      ]
     },
     "execution_count": 10,
     "metadata": {},
     "output_type": "execute_result"
    }
   ],
   "source": [
    "mylist=[]\n",
    "n1=int(input())\n",
    "n2=int(input())\n",
    "def subbu(n1,n2):\n",
    "    for i in range(n1,n2+1):\n",
    "        mylist.append(i)\n",
    "    print(mylist)\n",
    "    return sum(mylist)\n",
    "subbu(n1,n2)\n"
   ]
  },
  {
   "cell_type": "markdown",
   "metadata": {},
   "source": [
    "# leap year using functions"
   ]
  },
  {
   "cell_type": "code",
   "execution_count": 21,
   "metadata": {},
   "outputs": [
    {
     "name": "stdout",
     "output_type": "stream",
     "text": [
      "1990\n",
      "not leap year\n"
     ]
    },
    {
     "data": {
      "text/plain": [
       "False"
      ]
     },
     "execution_count": 21,
     "metadata": {},
     "output_type": "execute_result"
    }
   ],
   "source": [
    "n=int(input())\n",
    "def leap(n):\n",
    "    if n%4==0 and n%100!=0 or n%400==0:\n",
    "        print(\"leap year\")\n",
    "        #return True\n",
    "    else:\n",
    "        print(\"not leap year\")\n",
    "        #return False\n",
    "leap(n)\n",
    "    "
   ]
  },
  {
   "cell_type": "code",
   "execution_count": 34,
   "metadata": {},
   "outputs": [
    {
     "name": "stdout",
     "output_type": "stream",
     "text": [
      "1\n",
      "20\n",
      "not leap year\n",
      "not leap year\n",
      "not leap year\n",
      "leap year\n",
      "not leap year\n",
      "not leap year\n",
      "not leap year\n",
      "leap year\n",
      "not leap year\n",
      "not leap year\n",
      "not leap year\n",
      "leap year\n",
      "not leap year\n",
      "not leap year\n",
      "not leap year\n",
      "leap year\n",
      "not leap year\n",
      "not leap year\n",
      "not leap year\n",
      "leap year\n"
     ]
    }
   ],
   "source": [
    "n1=int(input())\n",
    "n2=int(input())\n",
    "for y in range(n1,n2+1):\n",
    "    def leaf(y):\n",
    "        if y%4==0 and y%100!=0 or y%400==0:\n",
    "                print(y)\n",
    "                #return y\n",
    "        else:\n",
    "            print(\"not leap year\")\n",
    "            #return False\n",
    "    leap(y)\n",
    "    \n",
    "        "
   ]
  },
  {
   "cell_type": "code",
   "execution_count": null,
   "metadata": {},
   "outputs": [],
   "source": []
  }
 ],
 "metadata": {
  "kernelspec": {
   "display_name": "Python 3",
   "language": "python",
   "name": "python3"
  },
  "language_info": {
   "codemirror_mode": {
    "name": "ipython",
    "version": 3
   },
   "file_extension": ".py",
   "mimetype": "text/x-python",
   "name": "python",
   "nbconvert_exporter": "python",
   "pygments_lexer": "ipython3",
   "version": "3.7.3"
  }
 },
 "nbformat": 4,
 "nbformat_minor": 2
}
